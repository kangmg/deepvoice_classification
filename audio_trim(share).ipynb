{
  "nbformat": 4,
  "nbformat_minor": 0,
  "metadata": {
    "colab": {
      "provenance": [],
      "mount_file_id": "18nRwU3pOYA4vAFax2qXIdK2WkBhLuiQW",
      "authorship_tag": "ABX9TyO2zfCBLLK6I6GEhkCQY5ni",
      "include_colab_link": true
    },
    "kernelspec": {
      "name": "python3",
      "display_name": "Python 3"
    },
    "language_info": {
      "name": "python"
    }
  },
  "cells": [
    {
      "cell_type": "markdown",
      "metadata": {
        "id": "view-in-github",
        "colab_type": "text"
      },
      "source": [
        "<a href=\"https://colab.research.google.com/github/kangmg/deepvoice_classification/blob/main/audio_trim(share).ipynb\" target=\"_parent\"><img src=\"https://colab.research.google.com/assets/colab-badge.svg\" alt=\"Open In Colab\"/></a>"
      ]
    },
    {
      "cell_type": "code",
      "execution_count": null,
      "metadata": {
        "id": "Ywc7ePwhr8pY"
      },
      "outputs": [],
      "source": [
        "from moviepy.video.io.ffmpeg_tools import ffmpeg_extract_subclip\n",
        "from moviepy.editor import AudioFileClip\n",
        "import os\n",
        "import numpy as np\n",
        "from IPython.display import clear_output"
      ]
    },
    {
      "cell_type": "code",
      "source": [
        "def trim_wav(wavPath:str, targetFolder:str=\"/content/audioTrim/\", trim_interval:float|int=4.0)->None:\n",
        "  \"\"\"\n",
        "  Description\n",
        "  -----------\n",
        "  audio file을 원하는 초 단위 간격으로 쪼개주는 함수\n",
        "  분할된 파일들은 targetFolder 안에 \"[filename]_t[index].wav\"로 저장됨.\n",
        "\n",
        "  e.g.\n",
        "    targetFolder/filename_t1.wav\n",
        "    targetFolder/filename_t2.wav\n",
        "    targetFolder/filename_t3.wav ...\n",
        "\n",
        "\n",
        "  Parameters\n",
        "  ----------\n",
        "  wavPath(str) : 쪼갤 파일의 경로\n",
        "  targetFolder(str) : 파일을 저장할 위치 ( default = \"/content/audioTrim/\" )\n",
        "  trim_interval(int|float) : 쪼갤 시간 단위 ( default = 4.0 )\n",
        "\n",
        "  Returns -> None\n",
        "  \"\"\"\n",
        "  if not os.path.isdir(targetFolder):\n",
        "    os.mkdir(targetFolder)\n",
        "  else:\n",
        "    pass\n",
        "  fileName = os.path.basename(wavPath).split(\".\")[0]\n",
        "  fileDuration = AudioFileClip(wavPath).duration # unit [sec]\n",
        "  quotient = int(fileDuration // trim_interval)\n",
        "  points = np.arange(0, (quotient + 1) * trim_interval, trim_interval).tolist()\n",
        "  t_intervals = list()\n",
        "  for idx in range(quotient):\n",
        "    t_intervals.append(points[idx:idx+2])\n",
        "\n",
        "  for idx, t_interval in enumerate(t_intervals):\n",
        "    savedPath = os.path.join(targetFolder, f\"{fileName}_t{idx}.wav\")\n",
        "    print(savedPath)\n",
        "    ffmpeg_extract_subclip(wavPath,*t_interval, targetname=savedPath)\n",
        "  clear_output(wait=True)\n",
        "  print(f\"File trimming complete!\\n\\n  - Number of files : {len(t_intervals)}\\n  - File saved at : {targetFolder}\")"
      ],
      "metadata": {
        "id": "1IsaAn_svchJ"
      },
      "execution_count": null,
      "outputs": []
    },
    {
      "cell_type": "code",
      "source": [
        "trim_wav(\"/content/drive/MyDrive/deepvoice/ai_voice1.wav\")"
      ],
      "metadata": {
        "colab": {
          "base_uri": "https://localhost:8080/"
        },
        "id": "zi1n47p_zOG-",
        "outputId": "d32da0cb-202b-4a19-8cfe-53ff70effd18"
      },
      "execution_count": null,
      "outputs": [
        {
          "output_type": "stream",
          "name": "stdout",
          "text": [
            "File trimming complete!\n",
            "\n",
            "  - Number of files : 296\n",
            "  - File saved at : /content/audioTrim/\n"
          ]
        }
      ]
    },
    {
      "cell_type": "code",
      "source": [
        "trim_wav(\"/content/drive/MyDrive/deepvoice/ai_voice2.wav\")"
      ],
      "metadata": {
        "colab": {
          "base_uri": "https://localhost:8080/"
        },
        "id": "9qah-wLz3T76",
        "outputId": "686a001e-c0f7-4197-c84b-4901723f3392"
      },
      "execution_count": null,
      "outputs": [
        {
          "output_type": "stream",
          "name": "stdout",
          "text": [
            "File trimming complete!\n",
            "\n",
            "  - Number of files : 54\n",
            "  - File saved at : /content/audioTrim/\n"
          ]
        }
      ]
    },
    {
      "cell_type": "code",
      "source": [
        "trim_wav(\"/content/drive/MyDrive/deepvoice/ai_voice3.wav\")"
      ],
      "metadata": {
        "colab": {
          "base_uri": "https://localhost:8080/"
        },
        "id": "i3S5npVhFRje",
        "outputId": "e8c43fea-a947-40b1-b0f8-cf58f8662d74"
      },
      "execution_count": null,
      "outputs": [
        {
          "output_type": "stream",
          "name": "stdout",
          "text": [
            "File trimming complete!\n",
            "\n",
            "  - Number of files : 52\n",
            "  - File saved at : /content/audioTrim/\n"
          ]
        }
      ]
    },
    {
      "cell_type": "code",
      "source": [
        "trim_wav(\"/content/drive/MyDrive/deepvoice/ai_voice4.wav\")"
      ],
      "metadata": {
        "colab": {
          "base_uri": "https://localhost:8080/"
        },
        "id": "ffpp9epCFRw3",
        "outputId": "570abc86-49a6-4aaf-cba2-0be747b7682c"
      },
      "execution_count": null,
      "outputs": [
        {
          "output_type": "stream",
          "name": "stdout",
          "text": [
            "File trimming complete!\n",
            "\n",
            "  - Number of files : 62\n",
            "  - File saved at : /content/audioTrim/\n"
          ]
        }
      ]
    },
    {
      "cell_type": "code",
      "source": [
        "trim_wav(\"/content/drive/MyDrive/deepvoice/ai_voice5.wav\")"
      ],
      "metadata": {
        "colab": {
          "base_uri": "https://localhost:8080/"
        },
        "id": "AGm1807sFR5z",
        "outputId": "4c277ccf-72d4-459f-9e1e-da31495f6e2a"
      },
      "execution_count": null,
      "outputs": [
        {
          "output_type": "stream",
          "name": "stdout",
          "text": [
            "File trimming complete!\n",
            "\n",
            "  - Number of files : 62\n",
            "  - File saved at : /content/audioTrim/\n"
          ]
        }
      ]
    },
    {
      "cell_type": "code",
      "source": [
        "trim_wav(\"/content/drive/MyDrive/deepvoice/ai_voice6.wav\")"
      ],
      "metadata": {
        "colab": {
          "base_uri": "https://localhost:8080/"
        },
        "id": "EuF5asAzFSHN",
        "outputId": "74f485e3-f37b-461e-8a2d-4f15b8a79d02"
      },
      "execution_count": null,
      "outputs": [
        {
          "output_type": "stream",
          "name": "stdout",
          "text": [
            "File trimming complete!\n",
            "\n",
            "  - Number of files : 75\n",
            "  - File saved at : /content/audioTrim/\n"
          ]
        }
      ]
    },
    {
      "cell_type": "code",
      "source": [
        "trim_wav(\"/content/drive/MyDrive/deepvoice/ai_voice7.wav\")"
      ],
      "metadata": {
        "colab": {
          "base_uri": "https://localhost:8080/"
        },
        "id": "x757XlwXFSZw",
        "outputId": "a565da21-bdb1-4339-c2dd-9a61b8261f42"
      },
      "execution_count": null,
      "outputs": [
        {
          "output_type": "stream",
          "name": "stdout",
          "text": [
            "File trimming complete!\n",
            "\n",
            "  - Number of files : 63\n",
            "  - File saved at : /content/audioTrim/\n"
          ]
        }
      ]
    },
    {
      "cell_type": "code",
      "source": [
        "trim_wav(\"/content/drive/MyDrive/deepvoice/ai_voice8.wav\")"
      ],
      "metadata": {
        "colab": {
          "base_uri": "https://localhost:8080/"
        },
        "id": "PiR8njyXFSpG",
        "outputId": "3d99b53f-d722-4454-d034-f0eddc859408"
      },
      "execution_count": null,
      "outputs": [
        {
          "output_type": "stream",
          "name": "stdout",
          "text": [
            "File trimming complete!\n",
            "\n",
            "  - Number of files : 62\n",
            "  - File saved at : /content/audioTrim/\n"
          ]
        }
      ]
    },
    {
      "cell_type": "code",
      "source": [
        "trim_wav(\"/content/drive/MyDrive/deepvoice/ai_voice9.wav\")"
      ],
      "metadata": {
        "colab": {
          "base_uri": "https://localhost:8080/"
        },
        "id": "uTJ4DdQnFTBy",
        "outputId": "ee5ccd0f-1214-4991-f3ca-a0205c42c162"
      },
      "execution_count": null,
      "outputs": [
        {
          "output_type": "stream",
          "name": "stdout",
          "text": [
            "File trimming complete!\n",
            "\n",
            "  - Number of files : 55\n",
            "  - File saved at : /content/audioTrim/\n"
          ]
        }
      ]
    },
    {
      "cell_type": "code",
      "source": [
        "trim_wav(\"/content/drive/MyDrive/deepvoice/ai_voice10.wav\")"
      ],
      "metadata": {
        "colab": {
          "base_uri": "https://localhost:8080/"
        },
        "id": "sQPFNGXQFZWI",
        "outputId": "265aaa19-39cc-4165-b5dd-19e46ea0decd"
      },
      "execution_count": null,
      "outputs": [
        {
          "output_type": "stream",
          "name": "stdout",
          "text": [
            "File trimming complete!\n",
            "\n",
            "  - Number of files : 66\n",
            "  - File saved at : /content/audioTrim/\n"
          ]
        }
      ]
    },
    {
      "cell_type": "code",
      "source": [
        "trim_wav(\"/content/drive/MyDrive/deepvoice/ai_voice11.wav\")"
      ],
      "metadata": {
        "colab": {
          "base_uri": "https://localhost:8080/"
        },
        "id": "gm0dPZGAFygK",
        "outputId": "cd4d53b5-5008-4791-f80d-eea48f514dab"
      },
      "execution_count": null,
      "outputs": [
        {
          "output_type": "stream",
          "name": "stdout",
          "text": [
            "File trimming complete!\n",
            "\n",
            "  - Number of files : 75\n",
            "  - File saved at : /content/audioTrim/\n"
          ]
        }
      ]
    },
    {
      "cell_type": "code",
      "source": [
        "trim_wav(\"/content/drive/MyDrive/deepvoice/ai_voice12.wav\")"
      ],
      "metadata": {
        "colab": {
          "base_uri": "https://localhost:8080/"
        },
        "id": "6GyNT-HuJf5z",
        "outputId": "a3a67839-c4f5-45cd-a236-3e862b57e7b1"
      },
      "execution_count": null,
      "outputs": [
        {
          "output_type": "stream",
          "name": "stdout",
          "text": [
            "File trimming complete!\n",
            "\n",
            "  - Number of files : 86\n",
            "  - File saved at : /content/audioTrim/\n"
          ]
        }
      ]
    },
    {
      "cell_type": "code",
      "source": [
        "len(os.listdir(\"/content/audioTrim\"))"
      ],
      "metadata": {
        "colab": {
          "base_uri": "https://localhost:8080/"
        },
        "id": "uh-Qby2SJhwd",
        "outputId": "2a0eb04d-46aa-478f-9b94-9505e93ef1e0"
      },
      "execution_count": null,
      "outputs": [
        {
          "output_type": "execute_result",
          "data": {
            "text/plain": [
              "1008"
            ]
          },
          "metadata": {},
          "execution_count": 83
        }
      ]
    },
    {
      "cell_type": "code",
      "source": [
        "5000 * 4.5 / 60"
      ],
      "metadata": {
        "id": "o-FUxM1PJ0zy",
        "colab": {
          "base_uri": "https://localhost:8080/"
        },
        "outputId": "a37aad80-2563-48a7-ac52-0c77f93c3b0a"
      },
      "execution_count": null,
      "outputs": [
        {
          "output_type": "execute_result",
          "data": {
            "text/plain": [
              "375.0"
            ]
          },
          "metadata": {},
          "execution_count": 1
        }
      ]
    },
    {
      "cell_type": "code",
      "source": [],
      "metadata": {
        "id": "CwTQedW28bHC"
      },
      "execution_count": null,
      "outputs": []
    }
  ]
}